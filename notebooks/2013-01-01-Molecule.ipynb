{
 "cells": [
  {
   "cell_type": "markdown",
   "metadata": {},
   "source": [
    "## Introduction"
   ]
  },
  {
   "cell_type": "markdown",
   "metadata": {},
   "source": [
    "This notebook demonstrates pymatgen's functionality in terms of creating and editing molecules, as well as its integration with OpenBabel. For the latter, please note that you will need to have openbabel with python bindings installed. Please refer to pymatgen's documentation for installation details.\n",
    "\n",
    "Written using:\n",
    "- pymatgen==2018.3.13"
   ]
  },
  {
   "cell_type": "markdown",
   "metadata": {},
   "source": [
    "## Molecules"
   ]
  },
  {
   "cell_type": "code",
   "execution_count": 2,
   "metadata": {},
   "outputs": [
    {
     "name": "stdout",
     "output_type": "stream",
     "text": [
      "Full Formula (H4 C1)\n",
      "Reduced Formula: H4C\n",
      "Charge = 0.0, Spin Mult = 1\n",
      "Sites (5)\n",
      "0 C     0.000000     0.000000     0.000000\n",
      "1 H     0.000000     0.000000     1.089000\n",
      "2 H     1.026719     0.000000    -0.363000\n",
      "3 H    -0.513360    -0.889165    -0.363000\n",
      "4 H    -0.513360     0.889165    -0.363000\n"
     ]
    }
   ],
   "source": [
    "from pymatgen import Molecule\n",
    "# Create a methane molecule.\n",
    "coords = [[0.000000, 0.000000, 0.000000],\n",
    "          [0.000000, 0.000000, 1.089000],\n",
    "          [1.026719, 0.000000, -0.363000],\n",
    "          [-0.513360, -0.889165, -0.363000],\n",
    "          [-0.513360, 0.889165, -0.363000]]\n",
    "mol = Molecule([\"C\", \"H\", \"H\", \"H\", \"H\"], coords)\n",
    "print(mol)"
   ]
  },
  {
   "cell_type": "code",
   "execution_count": 3,
   "metadata": {},
   "outputs": [
    {
     "name": "stdout",
     "output_type": "stream",
     "text": [
      "[0. 0. 0.] C\n",
      "[0.    0.    1.089] H\n"
     ]
    }
   ],
   "source": [
    "# A Molecule is simply a list of Sites.\n",
    "print(mol[0])\n",
    "print(mol[1])"
   ]
  },
  {
   "cell_type": "code",
   "execution_count": 4,
   "metadata": {},
   "outputs": [
    {
     "name": "stdout",
     "output_type": "stream",
     "text": [
      "Full Formula (H3 C1)\n",
      "Reduced Formula: H3C\n",
      "Charge = 0, Spin Mult = 2\n",
      "Sites (4)\n",
      "0 C     0.000000     0.000000     0.000000\n",
      "1 H     1.026719     0.000000    -0.363000\n",
      "2 H    -0.513360    -0.889165    -0.363000\n",
      "3 H    -0.513360     0.889165    -0.363000\n",
      "Full Formula (H1)\n",
      "Reduced Formula: H2\n",
      "Charge = 0, Spin Mult = 2\n",
      "Sites (1)\n",
      "0 H     0.000000     0.000000     1.089000\n"
     ]
    }
   ],
   "source": [
    "# Break a Molecule into two by breaking a bond.\n",
    "for frag in mol.break_bond(0, 1):\n",
    "    print(frag)"
   ]
  },
  {
   "cell_type": "code",
   "execution_count": 5,
   "metadata": {},
   "outputs": [
    {
     "name": "stdout",
     "output_type": "stream",
     "text": [
      "[Site: H (0.0000, 0.0000, 1.0890), Site: H (1.0267, 0.0000, -0.3630), Site: H (-0.5134, -0.8892, -0.3630), Site: H (-0.5134, 0.8892, -0.3630)]\n"
     ]
    }
   ],
   "source": [
    "# Getting neighbors that are within 3 angstroms from C atom.\n",
    "print(mol.get_neighbors(mol[0], 3))"
   ]
  },
  {
   "cell_type": "code",
   "execution_count": 6,
   "metadata": {},
   "outputs": [
    {
     "name": "stdout",
     "output_type": "stream",
     "text": [
      "[Covalent bond between [0. 0. 0.] C and [0.    0.    1.089] H, Covalent bond between [0. 0. 0.] C and [ 1.026719  0.       -0.363   ] H, Covalent bond between [0. 0. 0.] C and [-0.51336  -0.889165 -0.363   ] H, Covalent bond between [0. 0. 0.] C and [-0.51336   0.889165 -0.363   ] H]\n"
     ]
    }
   ],
   "source": [
    "#Detecting bonds\n",
    "print(mol.get_covalent_bonds())"
   ]
  },
  {
   "cell_type": "code",
   "execution_count": 7,
   "metadata": {},
   "outputs": [
    {
     "name": "stdout",
     "output_type": "stream",
     "text": [
      "Full Formula (H4 C1)\n",
      "Reduced Formula: H4C\n",
      "abc   :  10.000000  10.000000  10.000000\n",
      "angles:  90.000000  90.000000  90.000000\n",
      "Sites (5)\n",
      "  #  SP           a         b       c\n",
      "---  ----  --------  --------  ------\n",
      "  0  H     0.5       0.5       0.6089\n",
      "  1  H     0.602672  0.5       0.4637\n",
      "  2  H     0.448664  0.411083  0.4637\n",
      "  3  H     0.448664  0.588917  0.4637\n",
      "  4  C     0.5       0.5       0.5\n"
     ]
    }
   ],
   "source": [
    "# If you need to run the molecule in a box with a periodic boundary condition\n",
    "# code, you can generate the boxed structure as follows (in a 10Ax10Ax10A box)\n",
    "structure = mol.get_boxed_structure(10, 10, 10)\n",
    "print(structure)"
   ]
  },
  {
   "cell_type": "code",
   "execution_count": 8,
   "metadata": {},
   "outputs": [],
   "source": [
    "# Writing to XYZ files (easy to open with many molecule file viewers)\n",
    "from pymatgen.io.xyz import XYZ\n",
    "xyz = XYZ(mol)\n",
    "xyz.write_file(\"methane.xyz\")"
   ]
  },
  {
   "cell_type": "markdown",
   "metadata": {},
   "source": [
    "## Openbabel interface"
   ]
  },
  {
   "cell_type": "markdown",
   "metadata": {},
   "source": [
    "# https://pymatgen.org/installation.html?highlight=openbabel\n",
    "\n",
    "I had to install openbabel and pybel to make the block work.\n",
    "\n",
    "INSTALL NOTES:\n",
    "\n",
    "https://anaconda.org/bioconda/pybel\n",
    "\n",
    "conda search -c bioconda pybel\n",
    "Loading channels: done\n",
    "# Name                       Version           Build  Channel             \n",
    "pybel                          0.4.0          py27_0  bioconda            \n",
    "pybel                          0.4.0          py34_0  bioconda            \n",
    "pybel                          0.4.0          py35_0  bioconda            \n",
    "pybel                         0.13.2            py_0  bioconda    \n",
    "\n"
   ]
  },
  {
   "cell_type": "markdown",
   "metadata": {},
   "source": [
    "This section demonstrates pymatgen's integration with openbabel."
   ]
  },
  {
   "cell_type": "markdown",
   "metadata": {},
   "source": [
    "# AJP COULD NOT RESOLVE THIS ERROR"
   ]
  },
  {
   "cell_type": "code",
   "execution_count": 9,
   "metadata": {},
   "outputs": [
    {
     "ename": "AttributeError",
     "evalue": "module 'pybel' has no attribute 'Molecule'",
     "output_type": "error",
     "traceback": [
      "\u001b[0;31m---------------------------------------------------------------------------\u001b[0m",
      "\u001b[0;31mAttributeError\u001b[0m                            Traceback (most recent call last)",
      "\u001b[0;32m<ipython-input-9-15cbf4a933be>\u001b[0m in \u001b[0;36m<module>\u001b[0;34m\u001b[0m\n\u001b[1;32m      3\u001b[0m \u001b[0ma\u001b[0m \u001b[0;34m=\u001b[0m \u001b[0mBabelMolAdaptor\u001b[0m\u001b[0;34m(\u001b[0m\u001b[0mmol\u001b[0m\u001b[0;34m)\u001b[0m\u001b[0;34m\u001b[0m\u001b[0;34m\u001b[0m\u001b[0m\n\u001b[1;32m      4\u001b[0m \u001b[0;31m# Create a pybel.Molecule, which simplifies a lot of access\u001b[0m\u001b[0;34m\u001b[0m\u001b[0;34m\u001b[0m\u001b[0;34m\u001b[0m\u001b[0m\n\u001b[0;32m----> 5\u001b[0;31m \u001b[0mpm\u001b[0m \u001b[0;34m=\u001b[0m \u001b[0mpb\u001b[0m\u001b[0;34m.\u001b[0m\u001b[0mMolecule\u001b[0m\u001b[0;34m(\u001b[0m\u001b[0ma\u001b[0m\u001b[0;34m.\u001b[0m\u001b[0mopenbabel_mol\u001b[0m\u001b[0;34m)\u001b[0m\u001b[0;34m\u001b[0m\u001b[0;34m\u001b[0m\u001b[0m\n\u001b[0m\u001b[1;32m      6\u001b[0m \u001b[0;31m# Print canonical SMILES representation (unique and comparable).\u001b[0m\u001b[0;34m\u001b[0m\u001b[0;34m\u001b[0m\u001b[0;34m\u001b[0m\u001b[0m\n\u001b[1;32m      7\u001b[0m \u001b[0mprint\u001b[0m\u001b[0;34m(\u001b[0m\u001b[0;34m\"Canonical SMILES = {}\"\u001b[0m\u001b[0;34m.\u001b[0m\u001b[0mformat\u001b[0m\u001b[0;34m(\u001b[0m\u001b[0mpm\u001b[0m\u001b[0;34m.\u001b[0m\u001b[0mwrite\u001b[0m\u001b[0;34m(\u001b[0m\u001b[0;34m\"can\"\u001b[0m\u001b[0;34m)\u001b[0m\u001b[0;34m)\u001b[0m\u001b[0;34m)\u001b[0m\u001b[0;34m\u001b[0m\u001b[0;34m\u001b[0m\u001b[0m\n",
      "\u001b[0;31mAttributeError\u001b[0m: module 'pybel' has no attribute 'Molecule'"
     ]
    }
   ],
   "source": [
    "from pymatgen.io.babel import BabelMolAdaptor\n",
    "import pybel as pb\n",
    "a = BabelMolAdaptor(mol)\n",
    "# Create a pybel.Molecule, which simplifies a lot of access\n",
    "pm = pb.Molecule(a.openbabel_mol)\n",
    "# Print canonical SMILES representation (unique and comparable).\n",
    "print(\"Canonical SMILES = {}\".format(pm.write(\"can\")))\n",
    "# Print Inchi representation\n",
    "print(\"Inchi= {}\".format(pm.write(\"inchi\")))\n",
    "# pb.outformats provides a listing of available formats. \n",
    "# Let's do a write to the commonly used PDB file.\n",
    "pm.write(\"pdb\", filename=\"methane.pdb\", overwrite=True)"
   ]
  },
  {
   "cell_type": "code",
   "execution_count": 10,
   "metadata": {},
   "outputs": [
    {
     "ename": "AttributeError",
     "evalue": "module 'pybel' has no attribute 'readstring'",
     "output_type": "error",
     "traceback": [
      "\u001b[0;31m---------------------------------------------------------------------------\u001b[0m",
      "\u001b[0;31mAttributeError\u001b[0m                            Traceback (most recent call last)",
      "\u001b[0;32m<ipython-input-10-75f6d34d9aeb>\u001b[0m in \u001b[0;36m<module>\u001b[0;34m\u001b[0m\n\u001b[1;32m      2\u001b[0m \u001b[0;31m# And displaying the svg.\u001b[0m\u001b[0;34m\u001b[0m\u001b[0;34m\u001b[0m\u001b[0;34m\u001b[0m\u001b[0m\n\u001b[1;32m      3\u001b[0m \u001b[0;34m\u001b[0m\u001b[0m\n\u001b[0;32m----> 4\u001b[0;31m \u001b[0mec\u001b[0m \u001b[0;34m=\u001b[0m \u001b[0mpb\u001b[0m\u001b[0;34m.\u001b[0m\u001b[0mreadstring\u001b[0m\u001b[0;34m(\u001b[0m\u001b[0;34m\"smi\"\u001b[0m\u001b[0;34m,\u001b[0m \u001b[0;34m\"C1COC(=O)O1\"\u001b[0m\u001b[0;34m)\u001b[0m\u001b[0;34m\u001b[0m\u001b[0;34m\u001b[0m\u001b[0m\n\u001b[0m\u001b[1;32m      5\u001b[0m \u001b[0mec\u001b[0m\u001b[0;34m.\u001b[0m\u001b[0mmake3D\u001b[0m\u001b[0;34m(\u001b[0m\u001b[0;34m)\u001b[0m\u001b[0;34m\u001b[0m\u001b[0;34m\u001b[0m\u001b[0m\n\u001b[1;32m      6\u001b[0m \u001b[0;32mfrom\u001b[0m \u001b[0mIPython\u001b[0m\u001b[0;34m.\u001b[0m\u001b[0mcore\u001b[0m\u001b[0;34m.\u001b[0m\u001b[0mdisplay\u001b[0m \u001b[0;32mimport\u001b[0m \u001b[0mSVG\u001b[0m\u001b[0;34m,\u001b[0m \u001b[0mdisplay_svg\u001b[0m\u001b[0;34m\u001b[0m\u001b[0;34m\u001b[0m\u001b[0m\n",
      "\u001b[0;31mAttributeError\u001b[0m: module 'pybel' has no attribute 'readstring'"
     ]
    }
   ],
   "source": [
    "# Generating ethylene carbonate (SMILES obtained from Wikipedia)\n",
    "# And displaying the svg.\n",
    "\n",
    "ec = pb.readstring(\"smi\", \"C1COC(=O)O1\")\n",
    "ec.make3D()\n",
    "from IPython.core.display import SVG, display_svg\n",
    "svg = SVG(ec.write(\"svg\"))\n",
    "display_svg(svg)"
   ]
  },
  {
   "cell_type": "code",
   "execution_count": null,
   "metadata": {},
   "outputs": [],
   "source": [
    "pb."
   ]
  },
  {
   "cell_type": "markdown",
   "metadata": {},
   "source": [
    "## Input/Output"
   ]
  },
  {
   "cell_type": "markdown",
   "metadata": {},
   "source": [
    "Pymatgen has built-in support for the XYZ and Gaussian, NWchem file formats. It also has support for most other file formats if you have openbabel with Python bindings installed."
   ]
  },
  {
   "cell_type": "code",
   "execution_count": 10,
   "metadata": {},
   "outputs": [
    {
     "name": "stdout",
     "output_type": "stream",
     "text": [
      "5\n",
      "H4 C1\n",
      "C 0.000000 0.000000 0.000000\n",
      "H 0.000000 0.000000 1.089000\n",
      "H 1.026719 0.000000 -0.363000\n",
      "H -0.513360 -0.889165 -0.363000\n",
      "H -0.513360 0.889165 -0.363000\n",
      "#P HF/6-31G(d) \n",
      "\n",
      "H4 C1\n",
      "\n",
      "0 1\n",
      "C\n",
      "H 1 B1\n",
      "H 1 B2 2 A2\n",
      "H 1 B3 2 A3 3 D3\n",
      "H 1 B4 2 A4 4 D4\n",
      "\n",
      "B1=1.089000\n",
      "B2=1.089000\n",
      "A2=109.471221\n",
      "B3=1.089000\n",
      "A3=109.471213\n",
      "D3=120.000017\n",
      "B4=1.089000\n",
      "A4=109.471213\n",
      "D4=119.999966\n",
      "\n",
      "\n",
      "\n",
      "\n",
      "COMPND    UNNAMED\n",
      "AUTHOR    GENERATED BY OPEN BABEL 2.4.1\n",
      "HETATM    1  C   UNL     1       0.000   0.000   0.000  1.00  0.00           C  \n",
      "HETATM    2  H   UNL     1       0.000   0.000   1.089  1.00  0.00           H  \n",
      "HETATM    3  H   UNL     1       1.027   0.000  -0.363  1.00  0.00           H  \n",
      "HETATM    4  H   UNL     1      -0.513  -0.889  -0.363  1.00  0.00           H  \n",
      "HETATM    5  H   UNL     1      -0.513   0.889  -0.363  1.00  0.00           H  \n",
      "CONECT    1    3    4    5    2                                       \n",
      "CONECT    2    1                                                      \n",
      "CONECT    3    1                                                      \n",
      "CONECT    4    1                                                      \n",
      "CONECT    5    1                                                      \n",
      "MASTER        0    0    0    0    0    0    0    0    5    0    5    0\n",
      "END\n",
      "\n",
      "Full Formula (H4 C1)\n",
      "Reduced Formula: H4C\n",
      "Charge = 0, Spin Mult = 1\n",
      "Sites (5)\n",
      "0 C     0.000000     0.000000     0.000000\n",
      "1 H     0.000000     0.000000     1.089000\n",
      "2 H     1.027000     0.000000    -0.363000\n",
      "3 H    -0.513000    -0.889000    -0.363000\n",
      "4 H    -0.513000     0.889000    -0.363000\n"
     ]
    }
   ],
   "source": [
    "print(mol.to(fmt=\"xyz\"))\n",
    "print(mol.to(fmt=\"g09\"))\n",
    "print(mol.to(fmt=\"pdb\")) #Needs Openbabel.\n",
    "\n",
    "mol.to(filename=\"methane.xyz\")\n",
    "mol.to(filename=\"methane.pdb\") #Needs Openbabel.\n",
    "\n",
    "print(Molecule.from_file(\"methane.pdb\"))"
   ]
  },
  {
   "cell_type": "markdown",
   "metadata": {},
   "source": [
    "For more fine-grained control over output, you can use the underlying IO classes Gaussian and Nwchem, two commonly used computational chemistry programs."
   ]
  },
  {
   "cell_type": "code",
   "execution_count": 11,
   "metadata": {},
   "outputs": [
    {
     "name": "stdout",
     "output_type": "stream",
     "text": [
      "%mem=1000MW\n",
      "#P B3LYP/6-31G(d) Opt SCF=Tight\n",
      "\n",
      "methane\n",
      "\n",
      "0 1\n",
      "C\n",
      "H 1 B1\n",
      "H 1 B2 2 A2\n",
      "H 1 B3 2 A3 3 D3\n",
      "H 1 B4 2 A4 4 D4\n",
      "\n",
      "B1=1.089000\n",
      "B2=1.089000\n",
      "A2=109.471221\n",
      "B3=1.089000\n",
      "A3=109.471213\n",
      "D3=120.000017\n",
      "B4=1.089000\n",
      "A4=109.471213\n",
      "D4=119.999966\n",
      "\n",
      "\n",
      "\n",
      "\n"
     ]
    }
   ],
   "source": [
    "from pymatgen.io.gaussian import GaussianInput\n",
    "gau = GaussianInput(mol, charge=0, spin_multiplicity=1, title=\"methane\", \n",
    "                    functional=\"B3LYP\", basis_set=\"6-31G(d)\", \n",
    "                    route_parameters={'Opt': \"\", \"SCF\": \"Tight\"},\n",
    "                    link0_parameters={\"%mem\": \"1000MW\"})\n",
    "print(gau)"
   ]
  },
  {
   "cell_type": "code",
   "execution_count": 12,
   "metadata": {},
   "outputs": [
    {
     "name": "stdout",
     "output_type": "stream",
     "text": [
      "geometry units angstroms\n",
      " C 0.0 0.0 0.0\n",
      " H 0.0 0.0 1.089\n",
      " H 1.026719 0.0 -0.363\n",
      " H -0.51336 -0.889165 -0.363\n",
      " H -0.51336 0.889165 -0.363\n",
      "end\n",
      "\n",
      "title \"H4C1 dft optimize\"\n",
      "charge 0\n",
      "basis cartesian\n",
      " C library \"6-31G\"\n",
      " H library \"6-31G\"\n",
      "end\n",
      "dft\n",
      " mult 1\n",
      " xc b3lyp\n",
      "end\n",
      "task dft optimize\n",
      "\n",
      "title \"H4C1 dft freq\"\n",
      "charge 0\n",
      "basis cartesian\n",
      " C library \"6-31G\"\n",
      " H library \"6-31G\"\n",
      "end\n",
      "dft\n",
      " mult 1\n",
      " xc b3lyp\n",
      "end\n",
      "task dft freq\n",
      "\n",
      "title \"H4C1 dft energy\"\n",
      "charge 0\n",
      "basis cartesian\n",
      " C library \"6-311G\"\n",
      " H library \"6-311G\"\n",
      "end\n",
      "dft\n",
      " mult 1\n",
      " xc b3lyp\n",
      "end\n",
      "task dft energy\n",
      "\n"
     ]
    }
   ],
   "source": [
    "# A standard relaxation + SCF energy nwchem calculation input file for methane.\n",
    "from pymatgen.io.nwchem import NwTask, NwInput\n",
    "tasks = [\n",
    "    NwTask.dft_task(mol, operation=\"optimize\", xc=\"b3lyp\",\n",
    "                    basis_set=\"6-31G\"),\n",
    "    NwTask.dft_task(mol, operation=\"freq\", xc=\"b3lyp\",\n",
    "                    basis_set=\"6-31G\"),\n",
    "    NwTask.dft_task(mol, operation=\"energy\", xc=\"b3lyp\",\n",
    "                    basis_set=\"6-311G\"),\n",
    "]\n",
    "nwi = NwInput(mol, tasks, geometry_options=[\"units\", \"angstroms\"])\n",
    "print(nwi)"
   ]
  },
  {
   "cell_type": "markdown",
   "metadata": {},
   "source": [
    "## This concludes the demo on pymatgen's basic capabilities for molecules."
   ]
  }
 ],
 "metadata": {
  "anaconda-cloud": {},
  "kernelspec": {
   "display_name": "Python 3",
   "language": "python",
   "name": "python3"
  },
  "language_info": {
   "codemirror_mode": {
    "name": "ipython",
    "version": 3
   },
   "file_extension": ".py",
   "mimetype": "text/x-python",
   "name": "python",
   "nbconvert_exporter": "python",
   "pygments_lexer": "ipython3",
   "version": "3.8.6"
  }
 },
 "nbformat": 4,
 "nbformat_minor": 1
}
